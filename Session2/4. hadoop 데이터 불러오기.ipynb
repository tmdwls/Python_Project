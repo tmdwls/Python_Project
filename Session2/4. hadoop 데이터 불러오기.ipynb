{
 "cells": [
  {
   "cell_type": "markdown",
   "metadata": {},
   "source": [
    "# 1. 데이터 불러오기 from 분산파일시스템 (hadoop)"
   ]
  },
  {
   "cell_type": "code",
   "execution_count": 1,
   "metadata": {
    "scrolled": true
   },
   "outputs": [
    {
     "ename": "SyntaxError",
     "evalue": "invalid syntax (<ipython-input-1-4dc3585fb979>, line 2)",
     "output_type": "error",
     "traceback": [
      "\u001b[1;36m  File \u001b[1;32m\"<ipython-input-1-4dc3585fb979>\"\u001b[1;36m, line \u001b[1;32m2\u001b[0m\n\u001b[1;33m    Hadoop fs -help\u001b[0m\n\u001b[1;37m            ^\u001b[0m\n\u001b[1;31mSyntaxError\u001b[0m\u001b[1;31m:\u001b[0m invalid syntax\n"
     ]
    }
   ],
   "source": [
    "헬프\n",
    "Hadoop fs -help\n",
    " \n",
    "폴더구조 확인하기\n",
    "hadoop fs –ls /# 폴더명 까지 쓰면 안에 팔일까지 확인해줌\n",
    "\n",
    "파일 확인하기\n",
    "hadoop fs –cat /파일명# 파일이 있는 경로 다 써야함  hadoop fs -cat /mydata/helloworld.csv\n",
    "\n",
    "하둡파일시스템 → 로컬로 변경 \n",
    "hadoop fs –copyToLocal /… /.. #/여기에서/여기로 보낼꺼다\n",
    " \n",
    "로컬 → 하둡파일시스템\n",
    "hadoop fs –copyFromLocal\n",
    " \n",
    "하둡 저장공간\n",
    "hadoop fs –df –h\n",
    " \n",
    "폴더 만들기\n",
    "hadoop fs –mkdir /mydata\n",
    " \n",
    "삭제하기\n",
    "hadoop fs –rm –R /디렉토리명\n",
    "Hadoop fs –rm –f /파일명 "
   ]
  },
  {
   "cell_type": "code",
   "execution_count": 4,
   "metadata": {
    "scrolled": true
   },
   "outputs": [
    {
     "data": {
      "text/html": [
       "<div>\n",
       "<style scoped>\n",
       "    .dataframe tbody tr th:only-of-type {\n",
       "        vertical-align: middle;\n",
       "    }\n",
       "\n",
       "    .dataframe tbody tr th {\n",
       "        vertical-align: top;\n",
       "    }\n",
       "\n",
       "    .dataframe thead th {\n",
       "        text-align: right;\n",
       "    }\n",
       "</style>\n",
       "<table border=\"1\" class=\"dataframe\">\n",
       "  <thead>\n",
       "    <tr style=\"text-align: right;\">\n",
       "      <th></th>\n",
       "      <th>aello</th>\n",
       "      <th>borld</th>\n",
       "      <th>park</th>\n",
       "    </tr>\n",
       "  </thead>\n",
       "  <tbody>\n",
       "    <tr>\n",
       "      <th>0</th>\n",
       "      <td>hello1</td>\n",
       "      <td>world1</td>\n",
       "      <td>a</td>\n",
       "    </tr>\n",
       "    <tr>\n",
       "      <th>1</th>\n",
       "      <td>hello2</td>\n",
       "      <td>world2</td>\n",
       "      <td>b</td>\n",
       "    </tr>\n",
       "    <tr>\n",
       "      <th>2</th>\n",
       "      <td>park</td>\n",
       "      <td>seung-jin</td>\n",
       "      <td>c</td>\n",
       "    </tr>\n",
       "  </tbody>\n",
       "</table>\n",
       "</div>"
      ],
      "text/plain": [
       "    aello      borld park\n",
       "0  hello1     world1    a\n",
       "1  hello2     world2    b\n",
       "2    park  seung-jin    c"
      ]
     },
     "execution_count": 4,
     "metadata": {},
     "output_type": "execute_result"
    }
   ],
   "source": [
    "# Pandas and hdfs 패키지\n",
    "import pandas as pd\n",
    "from hdfs import InsecureClient\n",
    "import os\n",
    "# hdfs 설정\n",
    "client_hdfs = InsecureClient('http://192.168.110.114:50070')\n",
    "\n",
    "# Test PandasDataFrame 생성 및 넣기\n",
    "liste_hello = ['hello1','hello2', 'park']\n",
    "liste_world = ['world1','world2', 'seung-jin']\n",
    "liste_park = ['a', 'b', 'c']\n",
    "df = pd.DataFrame(data = {'aello' : liste_hello, 'borld': liste_world,  'park' : liste_park})\n",
    "df\n",
    "\n",
    "\n",
    "# 데이터프레임 hdfs에 저장\n",
    "# with client_hdfs.write('/mydata/helloworld-psj2.csv', encoding = 'utf-8') as writer:\n",
    "#     df.to_csv(writer)\n",
    "\n",
    "# 데이터 읽기\n",
    "# ====== Reading files ======\n",
    "# with client_hdfs.read('/mydata/helloworld-psj2.csv', encoding = 'utf-8') as reader:\n",
    "#     readdf=pd.read_csv(reader,index_col=0)\n",
    "# readdf\n"
   ]
  },
  {
   "cell_type": "code",
   "execution_count": null,
   "metadata": {},
   "outputs": [],
   "source": []
  }
 ],
 "metadata": {
  "kernelspec": {
   "display_name": "Python 3",
   "language": "python",
   "name": "python3"
  },
  "language_info": {
   "codemirror_mode": {
    "name": "ipython",
    "version": 3
   },
   "file_extension": ".py",
   "mimetype": "text/x-python",
   "name": "python",
   "nbconvert_exporter": "python",
   "pygments_lexer": "ipython3",
   "version": "3.6.4"
  }
 },
 "nbformat": 4,
 "nbformat_minor": 2
}
