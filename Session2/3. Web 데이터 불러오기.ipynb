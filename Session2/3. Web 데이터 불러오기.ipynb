{
 "cells": [
  {
   "attachments": {},
   "cell_type": "markdown",
   "metadata": {},
   "source": [
    "# 1.from web 데이터 불러오기\n",
    "\n",
    "BeautifulSoup 라이브러리"
   ]
  },
  {
   "cell_type": "code",
   "execution_count": 8,
   "metadata": {},
   "outputs": [
    {
     "name": "stdout",
     "output_type": "stream",
     "text": [
      "기상청 육상 중기예보\n",
      "이번 예보기간에는 고기압의 영향으로 대체로 맑은 날이 많겠습니다.  <br />기온은 평년(최저기온: 15~20도, 최고기온: 22~29도)과 전반에는 비슷하겠고, 후반에는 조금 높겠습니다.<br />강수량은 평년(3~19mm)보다 적겠습니다.\n"
     ]
    }
   ],
   "source": [
    "# bs = bs4.BeautifulSoup(html, “html.parser”)\n",
    " # div에서 클래스가 class_db_quiz인것만 추출\n",
    "# divs = bs.find or findAll(“태그명”)\n",
    "# print(divs)\n",
    "\n",
    "import requests, bs4, pandas as pd\n",
    "#웹페이지 html 소스 가져오기\n",
    "resp = requests.get('http://www.kma.go.kr/weather/forecast/mid-term-rss3.jsp')\n",
    "resp.encoding='utf-8'\n",
    "html = resp.text\n",
    "\n",
    "bs = bs4.BeautifulSoup(html, 'html.parser')\n",
    "\n",
    "# html 구조 태그로 가져오기\n",
    "title = bs.find(\"title\").text # 타이틀을 찾아서 가져옴\n",
    "wf = bs.find(\"wf\").text\n",
    "print(title)\n",
    "print(wf)"
   ]
  },
  {
   "cell_type": "markdown",
   "metadata": {},
   "source": [
    "# 1-1. 데이터 불러오기 from web [태그 찾기-find]"
   ]
  },
  {
   "cell_type": "code",
   "execution_count": 65,
   "metadata": {},
   "outputs": [
    {
     "name": "stdout",
     "output_type": "stream",
     "text": [
      "<tr style=\"text-align:left; background-color:#CCC\">\n",
      "<th>순번</th>\n",
      "<th>학생 이름</th>\n",
      "<th>GIT 주소(뒷부분)</th>\n",
      "<th>수정</th>\n",
      "</tr>\n"
     ]
    }
   ],
   "source": [
    "import requests, bs4, pandas as pd, numpy as np\n",
    " \n",
    "#웹페이지 html 소스 가져오기\n",
    "resp = requests.get('http://13.209.33.89:3333/maps/gitList')\n",
    "resp.encoding='utf-8'\n",
    "html = resp.text\n",
    "\n",
    "bs = bs4.BeautifulSoup(html, 'html.parser')\n",
    "\n",
    "# html 부분구조 가져오기\n",
    "find_tag = bs.find(\"tr\")\n",
    "print(find_tag)"
   ]
  },
  {
   "cell_type": "markdown",
   "metadata": {},
   "source": [
    "# 1-2. 데이터 불러오기 from web [속성 찾기]"
   ]
  },
  {
   "cell_type": "code",
   "execution_count": null,
   "metadata": {},
   "outputs": [],
   "source": [
    "bs = bs4.BeautifulSoup(html, “html.parser”)\n",
    "# findAll : 모두찾기 find : 한개만\n",
    "findAttr = bs.findAll or find(“태그명”, {“속성명”:”속성이름“})"
   ]
  },
  {
   "cell_type": "code",
   "execution_count": 1,
   "metadata": {},
   "outputs": [
    {
     "name": "stdout",
     "output_type": "stream",
     "text": [
      "<tr id=\"gitContents\">\n",
      "<td>1</td>\n",
      "<td>KIM GANG RYONG</td>\n",
      "<td>wovmxl</td>\n",
      "<td>\n",
      "<div style=\"float:left\">\n",
      "<a href=\"/maps/editgit/1\">Edit</a>                              \r\n",
      "                </div>\n",
      "</td>\n",
      "</tr>\n"
     ]
    }
   ],
   "source": [
    "import requests, bs4, pandas as pd, numpy as np\n",
    " \n",
    "#웹페이지 html 소스 가져오기\n",
    "resp = requests.get('http://13.209.33.89:3333/maps/gitList')\n",
    "resp.encoding='utf-8'\n",
    "html = resp.text\n",
    "\n",
    "bs = bs4.BeautifulSoup(html, 'html.parser')\n",
    "\n",
    "# html 태그 속성으로 찾기\n",
    "find_attr = bs.find(\"tr\",{\"id\":\"gitContents\"})\n",
    "print(find_attr)"
   ]
  },
  {
   "cell_type": "markdown",
   "metadata": {},
   "source": [
    "# 1-3. 데이터 불러오기 from web [태그 내 DOM 부분구조]"
   ]
  },
  {
   "cell_type": "code",
   "execution_count": null,
   "metadata": {},
   "outputs": [],
   "source": [
    "bs = bs4.BeautifulSoup(html, “html.parser”)\n",
    "# findAll : 모두찾기 find : 한개만\n",
    "findAttr = bs.findAll or find(“태그명”, {“속성명”:”속성이름“})\n",
    "find_part = find_attr.find(“a”)"
   ]
  },
  {
   "cell_type": "code",
   "execution_count": 84,
   "metadata": {},
   "outputs": [
    {
     "name": "stdout",
     "output_type": "stream",
     "text": [
      "[<td>1</td>, <td>KIM GANG RYONG</td>, <td>wovmxl</td>, <td>\n",
      "<div style=\"float:left\">\n",
      "<a href=\"/maps/editgit/1\">Edit</a>                              \r\n",
      "                </div>\n",
      "</td>]\n"
     ]
    }
   ],
   "source": [
    "import requests, bs4, pandas as pd, numpy as np\n",
    " \n",
    "#웹페이지 html 소스 가져오기\n",
    "resp = requests.get('http://13.209.33.89:3333/maps/gitList')\n",
    "resp.encoding='utf-8'\n",
    "html = resp.text\n",
    "\n",
    "bs = bs4.BeautifulSoup(html, 'html.parser')\n",
    "\n",
    "# html 부분구조 가져오기\n",
    "find_attr = bs.find(\"tr\",{\"id\":\"gitContents\"})\n",
    "find_part = find_attr.findAll(\"td\")\n",
    "print(find_part)"
   ]
  },
  {
   "cell_type": "markdown",
   "metadata": {},
   "source": [
    "# 1-4. 데이터 불러오기 from web [DOM 구조 내 속성 찾기]"
   ]
  },
  {
   "cell_type": "code",
   "execution_count": null,
   "metadata": {},
   "outputs": [],
   "source": [
    "bs = bs4.BeautifulSoup(html, “html.parser”)\n",
    "# findAll : 모두찾기 find : 한개만\n",
    "findAttr = bs.findAll or find(“태그명”, {“속성명”:”속성이름“})\n",
    "print(find_part.find(\"a\").attrs['href'])"
   ]
  },
  {
   "cell_type": "code",
   "execution_count": 9,
   "metadata": {},
   "outputs": [
    {
     "name": "stdout",
     "output_type": "stream",
     "text": [
      "https://docs.google.com/forms/d/e/1FAIpQLSff5TjqUq9u-jRxYZvTdB7k-N0AEjx0_WSIcLZCBfFiEfoRUA/viewform?usp=sf_link\n"
     ]
    }
   ],
   "source": [
    "import requests, bs4, pandas as pd, numpy as np\n",
    " \n",
    "#웹페이지 html 소스 가져오기\n",
    "resp = requests.get('http://13.209.33.89:3333/quiz')\n",
    "resp.encoding='utf-8'\n",
    "html = resp.text\n",
    "bs = bs4.BeautifulSoup(html, 'html.parser')\n",
    "# html 부분구조 가져오기\n",
    "find_part = bs.find(\"div\",{\"id\":\"id_db_quiz\"})\n",
    "find_part\n",
    "# 링크내 속성 가져오기\n",
    "link = find_part.find(\"a\")\n",
    "link\n",
    "print(find_part.find(\"a\").attrs['href'])"
   ]
  },
  {
   "cell_type": "code",
   "execution_count": 7,
   "metadata": {},
   "outputs": [
    {
     "name": "stdout",
     "output_type": "stream",
     "text": [
      " 6/14 파이썬 데이터 불러오기/저장하기  > https://docs.google.com/forms/d/e/1FAIpQLScoGQuidGNCFerQZ6Dw5t6PndPPT62EvrncPLL3xLUfulRTyA/viewform?usp=sf_link\n",
      " 6/8 postgres 과제  > https://docs.google.com/forms/d/e/1FAIpQLSftZ-2VYfHB46FrwFG2HjbRDBtLSO0XP2BmiHh3iqwGoi3pQQ/viewform?usp=sf_link\n",
      " 6/8 파이썬 제어문  > https://docs.google.com/forms/d/e/1FAIpQLSeZBKjrZD1nAf4aAYhz_WEAqbzwPUPihgMEfXy74e0IMRwXKw/viewform?usp=sf_link\n",
      " 6/7 파이썬 자료형  > https://docs.google.com/forms/d/e/1FAIpQLSdvFbZGNm7rSGQO_daDSWHC8o1BNgZtIBajLaiOcvgV2iV0IA/viewform?usp=sf_link\n",
      " 5/31 파이썬 머신러닝  > https://docs.google.com/forms/d/e/1FAIpQLSehRuBYKpXNULxkamM8zVOd_mkFwZYwKtAp8Px0Kl0oCJbIeA/viewform?usp=sf_link\n",
      " 5/24 파이썬 시작하기  > https://docs.google.com/forms/d/e/1FAIpQLSeVt843wk9MBxLj0N84q_8Vg4yL1jTrOygA5Cm3z-asPDY1sg/viewform?usp=sf_link\n",
      " 5/3 Spark 심화과정-groupby > https://docs.google.com/forms/d/e/1FAIpQLScsDv_0mTFuJMqGfvrdjFAxVdeGOBpo8wOQSm5OiW1XcdBDFg/viewform?usp=sf_link\n",
      " 4/27 Spark 심화과정  > https://docs.google.com/forms/d/e/1FAIpQLSdNCn-NrLuFse4w2C36vqRPGUXtXDDsfLLxm-Sv9E7PwRwbrQ/viewform?usp=sf_link\n",
      " 4/12 Spark 기본과정  > https://docs.google.com/forms/d/e/1FAIpQLSdfsGBmTFPfhZfFsKAOBOWx_x6f3mouhggIaYXbjW4EHbnBdA/viewform?usp=sf_link\n",
      " 6/12 오라클 Join 퀴즈  > https://docs.google.com/forms/d/e/1FAIpQLSff5TjqUq9u-jRxYZvTdB7k-N0AEjx0_WSIcLZCBfFiEfoRUA/viewform?usp=sf_link\n",
      " 6/5 오라클 GroupBy 퀴즈  > https://docs.google.com/forms/d/e/1FAIpQLScP3ojzBNFbKbTFq4r58GqqZODYom1d6jrn09rmdqT57uByVA/viewform?usp=sf_link\n",
      " 5/29 오라클 숫자/날짜 및 고급함수  > https://docs.google.com/forms/d/e/1FAIpQLSfU5Pv_GQOLV-SkrDirOGt4GLDP3sZpy-UPY4zsud2ODPknbA/viewform?usp=sf_link\n",
      " 5/15 오라클 데이터 조회(함수활용)   > https://docs.google.com/forms/d/e/1FAIpQLSdFuYrwaYE6HEzQft21Icj_2yPyQqkcSabuvnaWwO47v99XmA/viewform?usp=sf_link\n",
      " 5/8 오라클 원격접속 및 조회  > https://docs.google.com/forms/d/e/1FAIpQLSd8MAsXIKIteOM4OFCggUoYeOqC5aGI-2aQFLV8533HkbTz-w/viewform?usp=sf_link\n",
      " 4/10 무결성 제약조건  > https://docs.google.com/forms/d/e/1FAIpQLSeYl0KM70XWhjnTIVLfqX5H5tp2V3jx2bwJMyZrTSeak2HZWw/viewform?usp=sf_link\n"
     ]
    }
   ],
   "source": [
    "import requests, bs4, pandas as pd, numpy as np\n",
    " \n",
    "#웹페이지 html 소스 가져오기\n",
    "resp = requests.get('http://13.209.33.89:3333/quiz')\n",
    "resp.encoding='utf-8'\n",
    "html = resp.text\n",
    "find_part = bs.find(\"div\",{\"id\":\"id_db_quiz\"})\n",
    "link = bs.findAll(\"a\")\n",
    "for n in link:\n",
    "    # a 링크 내 htef 속성\n",
    "    href = n.attrs[\"href\"]\n",
    "    # 링크 내 htref 속성\n",
    "    text = n.text\n",
    "    if(href.startswith(\"/\")):\n",
    "        continue;\n",
    "    print(text, \">\", href)"
   ]
  },
  {
   "cell_type": "markdown",
   "metadata": {},
   "source": [
    "# 1-5 . 데이터 불러오기 from web [select 편] "
   ]
  },
  {
   "cell_type": "code",
   "execution_count": 11,
   "metadata": {},
   "outputs": [
    {
     "name": "stdout",
     "output_type": "stream",
     "text": [
      "usd/krw=  1,087.00\n",
      "['1,087.00'] <-----\n"
     ]
    },
    {
     "data": {
      "text/html": [
       "<div>\n",
       "<style scoped>\n",
       "    .dataframe tbody tr th:only-of-type {\n",
       "        vertical-align: middle;\n",
       "    }\n",
       "\n",
       "    .dataframe tbody tr th {\n",
       "        vertical-align: top;\n",
       "    }\n",
       "\n",
       "    .dataframe thead th {\n",
       "        text-align: right;\n",
       "    }\n",
       "</style>\n",
       "<table border=\"1\" class=\"dataframe\">\n",
       "  <thead>\n",
       "    <tr style=\"text-align: right;\">\n",
       "      <th></th>\n",
       "      <th>title</th>\n",
       "    </tr>\n",
       "  </thead>\n",
       "  <tbody>\n",
       "    <tr>\n",
       "      <th>0</th>\n",
       "      <td>1,087.00</td>\n",
       "    </tr>\n",
       "  </tbody>\n",
       "</table>\n",
       "</div>"
      ],
      "text/plain": [
       "      title\n",
       "0  1,087.00"
      ]
     },
     "execution_count": 11,
     "metadata": {},
     "output_type": "execute_result"
    }
   ],
   "source": [
    "import requests, bs4, pandas as pd, numpy as np\n",
    " \n",
    "#웹페이지 html 소스 가져오기\n",
    "resp = requests.get(\"http://finance.naver.com/marketindex/\")\n",
    "resp.encoding='utf-8'\n",
    "html = resp.text\n",
    "\n",
    "bs = bs4.BeautifulSoup(html, 'html.parser')\n",
    "\n",
    "# 데이터 추출하기\n",
    "price = bs.select_one(\"div.head_info > span.value\").string\n",
    "print(\"usd/krw= \", price)\n",
    "\n",
    "# 리스트 초기화 및 데이터 담기\n",
    "outList = []\n",
    "outList.append(price)\n",
    "print(outList , \"<-----\")\n",
    "\n",
    "# 리스트 pandas 데이터 프레임으로 변환 및 컬럼 정의\n",
    "outDf = pd.DataFrame(np.array(outList).reshape(1,1))\n",
    "outDf.columns = ['title']\n",
    "\n",
    "# CSV 파일로 저장, encondig 한글깨짐 방지\n",
    "outDf.to_csv(\"../dataset/webData.csv\", encoding='utf-8-sig',index=False)\n",
    "outDf\n"
   ]
  },
  {
   "cell_type": "markdown",
   "metadata": {},
   "source": [
    "# 1-6from web [select 편]"
   ]
  },
  {
   "cell_type": "code",
   "execution_count": 12,
   "metadata": {},
   "outputs": [
    {
     "name": "stdout",
     "output_type": "stream",
     "text": [
      "[<div class=\"class_db_quiz\" id=\"id_db_quiz\">\n",
      "<h1>데이터베이스 퀴즈 </h1>\n",
      "<a href=\"https://docs.google.com/forms/d/e/1FAIpQLSff5TjqUq9u-jRxYZvTdB7k-N0AEjx0_WSIcLZCBfFiEfoRUA/viewform?usp=sf_link\"> 6/12 오라클 Join 퀴즈 </a>\n",
      "<p></p>\n",
      "<a href=\"https://docs.google.com/forms/d/e/1FAIpQLScP3ojzBNFbKbTFq4r58GqqZODYom1d6jrn09rmdqT57uByVA/viewform?usp=sf_link\"> 6/5 오라클 GroupBy 퀴즈 </a>\n",
      "<p></p>\n",
      "<a href=\"https://docs.google.com/forms/d/e/1FAIpQLSfU5Pv_GQOLV-SkrDirOGt4GLDP3sZpy-UPY4zsud2ODPknbA/viewform?usp=sf_link\"> 5/29 오라클 숫자/날짜 및 고급함수 </a>\n",
      "<p></p>\n",
      "<a href=\"https://docs.google.com/forms/d/e/1FAIpQLSdFuYrwaYE6HEzQft21Icj_2yPyQqkcSabuvnaWwO47v99XmA/viewform?usp=sf_link\"> 5/15 오라클 데이터 조회(함수활용)  </a>\n",
      "<p></p>\n",
      "<a href=\"https://docs.google.com/forms/d/e/1FAIpQLSd8MAsXIKIteOM4OFCggUoYeOqC5aGI-2aQFLV8533HkbTz-w/viewform?usp=sf_link\"> 5/8 오라클 원격접속 및 조회 </a>\n",
      "<p></p>\n",
      "<a href=\"https://docs.google.com/forms/d/e/1FAIpQLSeYl0KM70XWhjnTIVLfqX5H5tp2V3jx2bwJMyZrTSeak2HZWw/viewform?usp=sf_link\"> 4/10 무결성 제약조건 </a>\n",
      "</div>]\n"
     ]
    }
   ],
   "source": [
    "\n",
    "import requests, bs4, pandas as pd, numpy as np\n",
    " \n",
    "#웹페이지 html 소스 가져오기\n",
    "resp = requests.get('http://13.209.33.89:3333/quiz')\n",
    "resp.encoding='utf-8'\n",
    "html = resp.text\n",
    "\n",
    "bs = bs4.BeautifulSoup(html, \"html.parser\")\n",
    "# div에서 id가 id_db_quiz인것만 추출\n",
    "divs = bs.select(\"div.class_db_quiz\") # class\n",
    "print(divs)\n"
   ]
  },
  {
   "cell_type": "code",
   "execution_count": 13,
   "metadata": {},
   "outputs": [
    {
     "name": "stdout",
     "output_type": "stream",
     "text": [
      "[<div class=\"class_db_quiz\" id=\"id_db_quiz\">\n",
      "<h1>데이터베이스 퀴즈 </h1>\n",
      "<a href=\"https://docs.google.com/forms/d/e/1FAIpQLSff5TjqUq9u-jRxYZvTdB7k-N0AEjx0_WSIcLZCBfFiEfoRUA/viewform?usp=sf_link\"> 6/12 오라클 Join 퀴즈 </a>\n",
      "<p></p>\n",
      "<a href=\"https://docs.google.com/forms/d/e/1FAIpQLScP3ojzBNFbKbTFq4r58GqqZODYom1d6jrn09rmdqT57uByVA/viewform?usp=sf_link\"> 6/5 오라클 GroupBy 퀴즈 </a>\n",
      "<p></p>\n",
      "<a href=\"https://docs.google.com/forms/d/e/1FAIpQLSfU5Pv_GQOLV-SkrDirOGt4GLDP3sZpy-UPY4zsud2ODPknbA/viewform?usp=sf_link\"> 5/29 오라클 숫자/날짜 및 고급함수 </a>\n",
      "<p></p>\n",
      "<a href=\"https://docs.google.com/forms/d/e/1FAIpQLSdFuYrwaYE6HEzQft21Icj_2yPyQqkcSabuvnaWwO47v99XmA/viewform?usp=sf_link\"> 5/15 오라클 데이터 조회(함수활용)  </a>\n",
      "<p></p>\n",
      "<a href=\"https://docs.google.com/forms/d/e/1FAIpQLSd8MAsXIKIteOM4OFCggUoYeOqC5aGI-2aQFLV8533HkbTz-w/viewform?usp=sf_link\"> 5/8 오라클 원격접속 및 조회 </a>\n",
      "<p></p>\n",
      "<a href=\"https://docs.google.com/forms/d/e/1FAIpQLSeYl0KM70XWhjnTIVLfqX5H5tp2V3jx2bwJMyZrTSeak2HZWw/viewform?usp=sf_link\"> 4/10 무결성 제약조건 </a>\n",
      "</div>]\n"
     ]
    }
   ],
   "source": [
    "import requests, bs4, pandas as pd, numpy as np\n",
    " \n",
    "#웹페이지 html 소스 가져오기\n",
    "resp = requests.get('http://13.209.33.89:3333/quiz')\n",
    "resp.encoding='utf-8'\n",
    "html = resp.text\n",
    "\n",
    "bs = bs4.BeautifulSoup(html, \"html.parser\")\n",
    "# div에서 id가 id_db_quiz인것만 추출\n",
    "divs = bs.select(\"div#id_db_quiz\") # id\n",
    "print(divs)"
   ]
  },
  {
   "cell_type": "code",
   "execution_count": 109,
   "metadata": {},
   "outputs": [
    {
     "name": "stdout",
     "output_type": "stream",
     "text": [
      "1\n",
      "KIM GANG RYONG\n",
      "wovmxl\n",
      "None\n",
      "2\n",
      "KIM DO WOON\n",
      "dowoonkim\n",
      "None\n",
      "3\n",
      "KIM EUI JIN\n",
      "doogn\n",
      "None\n",
      "4\n",
      "NOH YOUNG WOO\n",
      "ppoocoder\n",
      "None\n",
      "5\n",
      "PARK SEUNG JIN\n",
      "tmdwls\n",
      "None\n",
      "6\n",
      "SUNG HAN BIN\n",
      "sunghanbin\n",
      "None\n",
      "7\n",
      "SHIN SUNG WOO\n",
      "sinletsgo\n",
      "None\n",
      "8\n",
      "OH MI JIN\n",
      "ohmijin\n",
      "None\n",
      "9\n",
      "LEE DONG GEUN\n",
      "awd45\n",
      "None\n",
      "10\n",
      "LEE WOO SEOK\n",
      "creed35\n",
      "None\n",
      "11\n",
      "LEE EUN SIL\n",
      "milklandcoo\n",
      "None\n",
      "12\n",
      "LEE HAN MIN\n",
      "yumras\n",
      "None\n",
      "13\n",
      "LEE HYO JAE\n",
      "freespa\n",
      "None\n",
      "14\n",
      "JUNG KYUNG HWA\n",
      "JungKH89\n",
      "None\n",
      "15\n",
      "JEONG YU SEOCK\n",
      "jeongyuseoc\n",
      "None\n",
      "16\n",
      "JUNG HYO JAE\n",
      "jamiewell\n",
      "None\n",
      "17\n",
      "CHO DONG YEOK\n",
      "jody0406\n",
      "None\n",
      "18\n",
      "JO JEONG YEON\n",
      "hera7\n",
      "None\n",
      "19\n",
      "CHAE SUNG EUN\n",
      "sechae0528\n",
      "None\n",
      "20\n",
      "CHOI KYUNG JAE\n",
      "ckt9636\n",
      "None\n",
      "21\n",
      "CHOI DONG HUN\n",
      "MakeBelieve\n",
      "None\n",
      "22\n",
      "CHOI MIN SUNG\n",
      "sakurac0\n",
      "None\n",
      "23\n",
      "HA TAE YANG\n",
      "hataeyang\n",
      "None\n",
      "24\n",
      "YOON SUNG HO\n",
      "youtoo1116\n",
      "None\n",
      "25\n",
      "KIM JI SUNG\n",
      "binggugu\n",
      "None\n",
      "26\n",
      "CHOI MIN HAN\n",
      "do not submit\n",
      "None\n"
     ]
    }
   ],
   "source": [
    "import requests, bs4, pandas as pd, numpy as np\n",
    " \n",
    "#웹페이지 html 소스 가져오기\n",
    "resp = requests.get('http://13.209.33.89:3333/maps/gitList')\n",
    "resp.encoding='utf-8'\n",
    "html = resp.text\n",
    "bs = bs4.BeautifulSoup(html, \"html.parser\")\n",
    "# div에서 class가 class_db_quiz인것만 추출 (1개)\n",
    "# seone = bs.select_one(\"div.class_db_quiz > a\").string    \n",
    "# div에서 class가 class_db_quiz인것만 추출 (다수)\n",
    "divs = bs.select(\"tr > td\")\n",
    "for li in divs:\n",
    "    print(li.string)\n"
   ]
  },
  {
   "cell_type": "markdown",
   "metadata": {},
   "source": [
    "# 2. 데이터 불러오기 from web [테이블 스크랩 - 컬럼편]"
   ]
  },
  {
   "cell_type": "code",
   "execution_count": 14,
   "metadata": {},
   "outputs": [
    {
     "data": {
      "text/plain": [
       "list"
      ]
     },
     "execution_count": 14,
     "metadata": {},
     "output_type": "execute_result"
    }
   ],
   "source": [
    "import requests, bs4, pandas as pd, numpy as np\n",
    " \n",
    "#웹페이지 html 소스 가져오기\n",
    "resp = requests.get('http://13.209.33.89:3333/maps/gitList')\n",
    "resp.encoding='utf-8'\n",
    "html = resp.text\n",
    "bs = bs4.BeautifulSoup(html, 'html.parser')\n",
    "\n",
    "# html 부분구조 가져오기\n",
    "# html 부분구조 가져오기\n",
    "find_part = bs.find(\"div\",{\"style\":\"float:left\"})\n",
    "# 링크내 속성 가져오기\n",
    "link = find_part.find(\"a\")\n",
    "link\n",
    "columns=bs.select('table > tr > th') # 순서대로 타고 들어가기 \n",
    "columns\n",
    "type(columns)\n",
    "\n"
   ]
  },
  {
   "cell_type": "code",
   "execution_count": 15,
   "metadata": {},
   "outputs": [
    {
     "data": {
      "text/html": [
       "<div>\n",
       "<style scoped>\n",
       "    .dataframe tbody tr th:only-of-type {\n",
       "        vertical-align: middle;\n",
       "    }\n",
       "\n",
       "    .dataframe tbody tr th {\n",
       "        vertical-align: top;\n",
       "    }\n",
       "\n",
       "    .dataframe thead th {\n",
       "        text-align: right;\n",
       "    }\n",
       "</style>\n",
       "<table border=\"1\" class=\"dataframe\">\n",
       "  <thead>\n",
       "    <tr style=\"text-align: right;\">\n",
       "      <th></th>\n",
       "      <th>순번</th>\n",
       "      <th>학생 이름</th>\n",
       "      <th>GIT 주소(뒷부분)</th>\n",
       "      <th>수정</th>\n",
       "    </tr>\n",
       "  </thead>\n",
       "  <tbody>\n",
       "  </tbody>\n",
       "</table>\n",
       "</div>"
      ],
      "text/plain": [
       "Empty DataFrame\n",
       "Columns: [순번, 학생 이름, GIT 주소(뒷부분), 수정]\n",
       "Index: []"
      ]
     },
     "execution_count": 15,
     "metadata": {},
     "output_type": "execute_result"
    }
   ],
   "source": [
    "columnlist=[]\n",
    "for column in columns:\n",
    "    columnlist.append(column.text)\n",
    "df=pd.DataFrame(columns=columnlist)\n",
    "df"
   ]
  },
  {
   "cell_type": "code",
   "execution_count": 18,
   "metadata": {},
   "outputs": [
    {
     "data": {
      "text/plain": [
       "[<tr id=\"gitContents\">\n",
       " <td>1</td>\n",
       " <td>KIM GANG RYONG</td>\n",
       " <td>wovmxl</td>\n",
       " <td>\n",
       " <div style=\"float:left\">\n",
       " <a href=\"/maps/editgit/1\">Edit</a>                              \n",
       "                 </div>\n",
       " </td>\n",
       " </tr>, <tr id=\"gitContents\">\n",
       " <td>2</td>\n",
       " <td>KIM DO WOON</td>\n",
       " <td>dowoonkim</td>\n",
       " <td>\n",
       " <div style=\"float:left\">\n",
       " <a href=\"/maps/editgit/2\">Edit</a>                              \n",
       "                 </div>\n",
       " </td>\n",
       " </tr>, <tr id=\"gitContents\">\n",
       " <td>3</td>\n",
       " <td>KIM EUI JIN</td>\n",
       " <td>doogn</td>\n",
       " <td>\n",
       " <div style=\"float:left\">\n",
       " <a href=\"/maps/editgit/3\">Edit</a>                              \n",
       "                 </div>\n",
       " </td>\n",
       " </tr>, <tr id=\"gitContents\">\n",
       " <td>4</td>\n",
       " <td>NOH YOUNG WOO</td>\n",
       " <td>ppoocoder</td>\n",
       " <td>\n",
       " <div style=\"float:left\">\n",
       " <a href=\"/maps/editgit/4\">Edit</a>                              \n",
       "                 </div>\n",
       " </td>\n",
       " </tr>, <tr id=\"gitContents\">\n",
       " <td>5</td>\n",
       " <td>PARK SEUNG JIN</td>\n",
       " <td>tmdwls</td>\n",
       " <td>\n",
       " <div style=\"float:left\">\n",
       " <a href=\"/maps/editgit/5\">Edit</a>                              \n",
       "                 </div>\n",
       " </td>\n",
       " </tr>, <tr id=\"gitContents\">\n",
       " <td>6</td>\n",
       " <td>SUNG HAN BIN</td>\n",
       " <td>sunghanbin</td>\n",
       " <td>\n",
       " <div style=\"float:left\">\n",
       " <a href=\"/maps/editgit/6\">Edit</a>                              \n",
       "                 </div>\n",
       " </td>\n",
       " </tr>, <tr id=\"gitContents\">\n",
       " <td>7</td>\n",
       " <td>SHIN SUNG WOO</td>\n",
       " <td>sinletsgo</td>\n",
       " <td>\n",
       " <div style=\"float:left\">\n",
       " <a href=\"/maps/editgit/7\">Edit</a>                              \n",
       "                 </div>\n",
       " </td>\n",
       " </tr>, <tr id=\"gitContents\">\n",
       " <td>8</td>\n",
       " <td>OH MI JIN</td>\n",
       " <td>ohmijin</td>\n",
       " <td>\n",
       " <div style=\"float:left\">\n",
       " <a href=\"/maps/editgit/8\">Edit</a>                              \n",
       "                 </div>\n",
       " </td>\n",
       " </tr>, <tr id=\"gitContents\">\n",
       " <td>9</td>\n",
       " <td>LEE DONG GEUN</td>\n",
       " <td>awd45</td>\n",
       " <td>\n",
       " <div style=\"float:left\">\n",
       " <a href=\"/maps/editgit/9\">Edit</a>                              \n",
       "                 </div>\n",
       " </td>\n",
       " </tr>, <tr id=\"gitContents\">\n",
       " <td>10</td>\n",
       " <td>LEE WOO SEOK</td>\n",
       " <td>creed35</td>\n",
       " <td>\n",
       " <div style=\"float:left\">\n",
       " <a href=\"/maps/editgit/10\">Edit</a>                              \n",
       "                 </div>\n",
       " </td>\n",
       " </tr>, <tr id=\"gitContents\">\n",
       " <td>11</td>\n",
       " <td>LEE EUN SIL</td>\n",
       " <td>milklandcoo</td>\n",
       " <td>\n",
       " <div style=\"float:left\">\n",
       " <a href=\"/maps/editgit/11\">Edit</a>                              \n",
       "                 </div>\n",
       " </td>\n",
       " </tr>, <tr id=\"gitContents\">\n",
       " <td>12</td>\n",
       " <td>LEE HAN MIN</td>\n",
       " <td>yumras</td>\n",
       " <td>\n",
       " <div style=\"float:left\">\n",
       " <a href=\"/maps/editgit/12\">Edit</a>                              \n",
       "                 </div>\n",
       " </td>\n",
       " </tr>, <tr id=\"gitContents\">\n",
       " <td>13</td>\n",
       " <td>LEE HYO JAE</td>\n",
       " <td>freespa</td>\n",
       " <td>\n",
       " <div style=\"float:left\">\n",
       " <a href=\"/maps/editgit/13\">Edit</a>                              \n",
       "                 </div>\n",
       " </td>\n",
       " </tr>, <tr id=\"gitContents\">\n",
       " <td>14</td>\n",
       " <td>JUNG KYUNG HWA</td>\n",
       " <td>JungKH89</td>\n",
       " <td>\n",
       " <div style=\"float:left\">\n",
       " <a href=\"/maps/editgit/14\">Edit</a>                              \n",
       "                 </div>\n",
       " </td>\n",
       " </tr>, <tr id=\"gitContents\">\n",
       " <td>15</td>\n",
       " <td>JEONG YU SEOCK</td>\n",
       " <td>jeongyuseoc</td>\n",
       " <td>\n",
       " <div style=\"float:left\">\n",
       " <a href=\"/maps/editgit/15\">Edit</a>                              \n",
       "                 </div>\n",
       " </td>\n",
       " </tr>, <tr id=\"gitContents\">\n",
       " <td>16</td>\n",
       " <td>JUNG HYO JAE</td>\n",
       " <td>jamiewell</td>\n",
       " <td>\n",
       " <div style=\"float:left\">\n",
       " <a href=\"/maps/editgit/16\">Edit</a>                              \n",
       "                 </div>\n",
       " </td>\n",
       " </tr>, <tr id=\"gitContents\">\n",
       " <td>17</td>\n",
       " <td>CHO DONG YEOK</td>\n",
       " <td>jody0406</td>\n",
       " <td>\n",
       " <div style=\"float:left\">\n",
       " <a href=\"/maps/editgit/17\">Edit</a>                              \n",
       "                 </div>\n",
       " </td>\n",
       " </tr>, <tr id=\"gitContents\">\n",
       " <td>18</td>\n",
       " <td>JO JEONG YEON</td>\n",
       " <td>hera7</td>\n",
       " <td>\n",
       " <div style=\"float:left\">\n",
       " <a href=\"/maps/editgit/18\">Edit</a>                              \n",
       "                 </div>\n",
       " </td>\n",
       " </tr>, <tr id=\"gitContents\">\n",
       " <td>19</td>\n",
       " <td>CHAE SUNG EUN</td>\n",
       " <td>sechae0528</td>\n",
       " <td>\n",
       " <div style=\"float:left\">\n",
       " <a href=\"/maps/editgit/19\">Edit</a>                              \n",
       "                 </div>\n",
       " </td>\n",
       " </tr>, <tr id=\"gitContents\">\n",
       " <td>20</td>\n",
       " <td>CHOI KYUNG JAE</td>\n",
       " <td>ckt9636</td>\n",
       " <td>\n",
       " <div style=\"float:left\">\n",
       " <a href=\"/maps/editgit/20\">Edit</a>                              \n",
       "                 </div>\n",
       " </td>\n",
       " </tr>, <tr id=\"gitContents\">\n",
       " <td>21</td>\n",
       " <td>CHOI DONG HUN</td>\n",
       " <td>MakeBelieve</td>\n",
       " <td>\n",
       " <div style=\"float:left\">\n",
       " <a href=\"/maps/editgit/21\">Edit</a>                              \n",
       "                 </div>\n",
       " </td>\n",
       " </tr>, <tr id=\"gitContents\">\n",
       " <td>22</td>\n",
       " <td>CHOI MIN SUNG</td>\n",
       " <td>sakurac0</td>\n",
       " <td>\n",
       " <div style=\"float:left\">\n",
       " <a href=\"/maps/editgit/22\">Edit</a>                              \n",
       "                 </div>\n",
       " </td>\n",
       " </tr>, <tr id=\"gitContents\">\n",
       " <td>23</td>\n",
       " <td>HA TAE YANG</td>\n",
       " <td>hataeyang</td>\n",
       " <td>\n",
       " <div style=\"float:left\">\n",
       " <a href=\"/maps/editgit/23\">Edit</a>                              \n",
       "                 </div>\n",
       " </td>\n",
       " </tr>, <tr id=\"gitContents\">\n",
       " <td>24</td>\n",
       " <td>YOON SUNG HO</td>\n",
       " <td>youtoo1116</td>\n",
       " <td>\n",
       " <div style=\"float:left\">\n",
       " <a href=\"/maps/editgit/24\">Edit</a>                              \n",
       "                 </div>\n",
       " </td>\n",
       " </tr>, <tr id=\"gitContents\">\n",
       " <td>25</td>\n",
       " <td>KIM JI SUNG</td>\n",
       " <td>binggugu</td>\n",
       " <td>\n",
       " <div style=\"float:left\">\n",
       " <a href=\"/maps/editgit/25\">Edit</a>                              \n",
       "                 </div>\n",
       " </td>\n",
       " </tr>, <tr id=\"gitContents\">\n",
       " <td>26</td>\n",
       " <td>CHOI MIN HAN</td>\n",
       " <td>do not submit</td>\n",
       " <td>\n",
       " <div style=\"float:left\">\n",
       " <a href=\"/maps/editgit/26\">Edit</a>                              \n",
       "                 </div>\n",
       " </td>\n",
       " </tr>]"
      ]
     },
     "execution_count": 18,
     "metadata": {},
     "output_type": "execute_result"
    }
   ],
   "source": [
    "contents=bs.select('table > tr#gitContents')\n",
    "contents"
   ]
  },
  {
   "cell_type": "code",
   "execution_count": 31,
   "metadata": {},
   "outputs": [
    {
     "name": "stdout",
     "output_type": "stream",
     "text": [
      "    no        std_name     git_adress\n",
      "0    1  KIM GANG RYONG         wovmxl\n",
      "1    2     KIM DO WOON      dowoonkim\n",
      "2    3     KIM EUI JIN          doogn\n",
      "3    4   NOH YOUNG WOO      ppoocoder\n",
      "4    5  PARK SEUNG JIN         tmdwls\n",
      "5    6    SUNG HAN BIN     sunghanbin\n",
      "6    7   SHIN SUNG WOO      sinletsgo\n",
      "7    8       OH MI JIN        ohmijin\n",
      "8    9   LEE DONG GEUN          awd45\n",
      "9   10    LEE WOO SEOK        creed35\n",
      "10  11     LEE EUN SIL    milklandcoo\n",
      "11  12     LEE HAN MIN         yumras\n",
      "12  13     LEE HYO JAE        freespa\n",
      "13  14  JUNG KYUNG HWA       JungKH89\n",
      "14  15  JEONG YU SEOCK    jeongyuseoc\n",
      "15  16    JUNG HYO JAE      jamiewell\n",
      "16  17   CHO DONG YEOK       jody0406\n",
      "17  18   JO JEONG YEON          hera7\n",
      "18  19   CHAE SUNG EUN     sechae0528\n",
      "19  20  CHOI KYUNG JAE        ckt9636\n",
      "20  21   CHOI DONG HUN    MakeBelieve\n",
      "21  22   CHOI MIN SUNG       sakurac0\n",
      "22  23     HA TAE YANG      hataeyang\n",
      "23  24    YOON SUNG HO     youtoo1116\n",
      "24  25     KIM JI SUNG       binggugu\n",
      "25  26    CHOI MIN HAN  do not submit\n"
     ]
    }
   ],
   "source": [
    "dfcontent=[]\n",
    "alldfcontents=[]\n",
    "for content in contents:\n",
    "    tds=content.findAll(\"td\")\n",
    "    for td in tds:\n",
    "        if(td.text==\"None\"):\n",
    "            continue;\n",
    "        dfcontent.append(td.text)\n",
    "    alldfcontents.append(dfcontent)\n",
    "    dfcontent=[]\n",
    "df=pd.DataFrame(columns=columnlist, data=alldfcontents, index=None)\n",
    "\n",
    "df.columns=[\"no\", \"std_name\", \"git_adress\",\"edit\"]\n",
    "finalDf = df[[\"no\", \"std_name\", \"git_adress\"]]\n",
    "print(finalDf)\n",
    "# CSV 파일로 저장, encondig 한글깨짐 방지\n",
    "# finalDf.to_csv(\"../dataset/gitList2.csv\", encoding='utf-8-sig',index=False)\n"
   ]
  },
  {
   "cell_type": "markdown",
   "metadata": {},
   "source": [
    "# 3. 예제"
   ]
  },
  {
   "cell_type": "code",
   "execution_count": 41,
   "metadata": {},
   "outputs": [
    {
     "name": "stdout",
     "output_type": "stream",
     "text": [
      "  순위       종목명      현재가\n",
      "0  1      삼성전자   48,100\n",
      "1  2    SK하이닉스   86,200\n",
      "2  3      셀트리온  293,000\n",
      "3  4     삼성전자우   38,400\n",
      "4  5     POSCO  368,000\n",
      "5  6       현대차  135,500\n",
      "6  7  삼성바이오로직스  409,500\n"
     ]
    }
   ],
   "source": [
    "import requests, bs4, pandas as pd, numpy as np\n",
    " \n",
    "#웹페이지 html 소스 가져오기\n",
    "resp = requests.get('http://finance.daum.net/quote/marketvalue.daum')\n",
    "resp.encoding='utf-8'\n",
    "html = resp.text\n",
    "bs = bs4.BeautifulSoup(html, 'html.parser')\n",
    "\n",
    "columns=bs.select('table > tr > th') # 순서대로 타고 들어가기 \n",
    "columns\n",
    "\n",
    "\n",
    "columnlist=[]\n",
    "for column in columns:\n",
    "    columnlist.append(column.text)\n",
    "df=pd.DataFrame(columns=columnlist)\n",
    "df\n",
    "contents1=bs.findAll(\"tr\",{\"onmouseout\":\"highlight(this,false)\"}, limit = 7) # limit 전부찾는데 리밋 제한을뒤서 갯수만큼만 가져옴\n",
    "contents1\n",
    "dfcontent=[]\n",
    "alldfcontents=[]\n",
    "for content in contents1:\n",
    "    tds=content.findAll(\"td\")\n",
    "    for td in tds:\n",
    "        if(td.text==\"None\"):\n",
    "            continue;\n",
    "        dfcontent.append(td.text)\n",
    "    alldfcontents.append(dfcontent)\n",
    "    dfcontent=[]\n",
    "df=pd.DataFrame(columns=columnlist, data=alldfcontents, index=None)\n",
    "\n",
    "df.columns=[\"순위\", \"종목명\",\"현재가\", \"전일비\",\"등락률\", \"시가총액\", \"상장주식수\", \"외국인비율\"]\n",
    "finalDf = df[[\"순위\", \"종목명\", \"현재가\"]]\n",
    "print(finalDf)\n",
    "# CSV 파일로 저장, encondig 한글깨짐 방지\n",
    "#finalDf.to_csv(\"../dataset/finalDF.csv\", encoding='utf-8-sig',index=False)"
   ]
  },
  {
   "cell_type": "code",
   "execution_count": 150,
   "metadata": {},
   "outputs": [
    {
     "data": {
      "text/html": [
       "<div>\n",
       "<style scoped>\n",
       "    .dataframe tbody tr th:only-of-type {\n",
       "        vertical-align: middle;\n",
       "    }\n",
       "\n",
       "    .dataframe tbody tr th {\n",
       "        vertical-align: top;\n",
       "    }\n",
       "\n",
       "    .dataframe thead th {\n",
       "        text-align: right;\n",
       "    }\n",
       "</style>\n",
       "<table border=\"1\" class=\"dataframe\">\n",
       "  <thead>\n",
       "    <tr style=\"text-align: right;\">\n",
       "      <th></th>\n",
       "      <th>Date</th>\n",
       "      <th>Weekday</th>\n",
       "      <th>Holiday Name</th>\n",
       "      <th>Holiday Type</th>\n",
       "    </tr>\n",
       "  </thead>\n",
       "  <tbody>\n",
       "  </tbody>\n",
       "</table>\n",
       "</div>"
      ],
      "text/plain": [
       "Empty DataFrame\n",
       "Columns: [Date, Weekday, Holiday Name, Holiday Type]\n",
       "Index: []"
      ]
     },
     "execution_count": 150,
     "metadata": {},
     "output_type": "execute_result"
    }
   ],
   "source": []
  },
  {
   "cell_type": "code",
   "execution_count": 165,
   "metadata": {},
   "outputs": [],
   "source": []
  },
  {
   "cell_type": "code",
   "execution_count": 166,
   "metadata": {},
   "outputs": [],
   "source": []
  },
  {
   "cell_type": "code",
   "execution_count": null,
   "metadata": {},
   "outputs": [],
   "source": [
    "#tr0 > th #tr0 > td.nw #tr0 > td:nth-child(3) > a"
   ]
  }
 ],
 "metadata": {
  "kernelspec": {
   "display_name": "Python 3",
   "language": "python",
   "name": "python3"
  },
  "language_info": {
   "codemirror_mode": {
    "name": "ipython",
    "version": 3
   },
   "file_extension": ".py",
   "mimetype": "text/x-python",
   "name": "python",
   "nbconvert_exporter": "python",
   "pygments_lexer": "ipython3",
   "version": "3.6.4"
  }
 },
 "nbformat": 4,
 "nbformat_minor": 2
}
