{
 "cells": [
  {
   "cell_type": "code",
   "execution_count": 16,
   "metadata": {},
   "outputs": [
    {
     "name": "stdout",
     "output_type": "stream",
     "text": [
      "[*********************100%***********************]  1 of 1 downloaded\n"
     ]
    },
    {
     "data": {
      "text/html": [
       "<div>\n",
       "<style scoped>\n",
       "    .dataframe tbody tr th:only-of-type {\n",
       "        vertical-align: middle;\n",
       "    }\n",
       "\n",
       "    .dataframe tbody tr th {\n",
       "        vertical-align: top;\n",
       "    }\n",
       "\n",
       "    .dataframe thead th {\n",
       "        text-align: right;\n",
       "    }\n",
       "</style>\n",
       "<table border=\"1\" class=\"dataframe\">\n",
       "  <thead>\n",
       "    <tr style=\"text-align: right;\">\n",
       "      <th></th>\n",
       "      <th>Open</th>\n",
       "      <th>High</th>\n",
       "      <th>Low</th>\n",
       "      <th>Close</th>\n",
       "      <th>Adj Close</th>\n",
       "      <th>Volume</th>\n",
       "    </tr>\n",
       "    <tr>\n",
       "      <th>Date</th>\n",
       "      <th></th>\n",
       "      <th></th>\n",
       "      <th></th>\n",
       "      <th></th>\n",
       "      <th></th>\n",
       "      <th></th>\n",
       "    </tr>\n",
       "  </thead>\n",
       "  <tbody>\n",
       "    <tr>\n",
       "      <th>2017-04-03</th>\n",
       "      <td>41400.0</td>\n",
       "      <td>41720.0</td>\n",
       "      <td>41300.0</td>\n",
       "      <td>41440.0</td>\n",
       "      <td>10779.122070</td>\n",
       "      <td>9579400</td>\n",
       "    </tr>\n",
       "    <tr>\n",
       "      <th>2017-04-04</th>\n",
       "      <td>41600.0</td>\n",
       "      <td>42180.0</td>\n",
       "      <td>41520.0</td>\n",
       "      <td>42080.0</td>\n",
       "      <td>10945.595703</td>\n",
       "      <td>12255500</td>\n",
       "    </tr>\n",
       "    <tr>\n",
       "      <th>2017-04-05</th>\n",
       "      <td>41900.0</td>\n",
       "      <td>42240.0</td>\n",
       "      <td>41700.0</td>\n",
       "      <td>42140.0</td>\n",
       "      <td>10961.202148</td>\n",
       "      <td>10699700</td>\n",
       "    </tr>\n",
       "    <tr>\n",
       "      <th>2017-04-06</th>\n",
       "      <td>42000.0</td>\n",
       "      <td>42080.0</td>\n",
       "      <td>41600.0</td>\n",
       "      <td>41840.0</td>\n",
       "      <td>10883.167969</td>\n",
       "      <td>9683400</td>\n",
       "    </tr>\n",
       "    <tr>\n",
       "      <th>2017-04-07</th>\n",
       "      <td>41800.0</td>\n",
       "      <td>41820.0</td>\n",
       "      <td>41160.0</td>\n",
       "      <td>41600.0</td>\n",
       "      <td>10820.740234</td>\n",
       "      <td>10021000</td>\n",
       "    </tr>\n",
       "  </tbody>\n",
       "</table>\n",
       "</div>"
      ],
      "text/plain": [
       "               Open     High      Low    Close     Adj Close    Volume\n",
       "Date                                                                  \n",
       "2017-04-03  41400.0  41720.0  41300.0  41440.0  10779.122070   9579400\n",
       "2017-04-04  41600.0  42180.0  41520.0  42080.0  10945.595703  12255500\n",
       "2017-04-05  41900.0  42240.0  41700.0  42140.0  10961.202148  10699700\n",
       "2017-04-06  42000.0  42080.0  41600.0  41840.0  10883.167969   9683400\n",
       "2017-04-07  41800.0  41820.0  41160.0  41600.0  10820.740234  10021000"
      ]
     },
     "execution_count": 16,
     "metadata": {},
     "output_type": "execute_result"
    }
   ],
   "source": [
    "import pandas_datareader.data as web\n",
    "import fix_yahoo_finance as yf\n",
    "yf.pdr_override()\n",
    "from datetime import date, timedelta\n",
    "import matplotlib.pyplot as plt\n",
    "import datetime\n",
    "\n",
    "start = datetime.datetime(2017,4,1)\n",
    "end = date.today()\n",
    "\n",
    "SEC = web.get_data_yahoo(\"005930.KS\", start, end)\n",
    "SEC.head()"
   ]
  },
  {
   "cell_type": "code",
   "execution_count": null,
   "metadata": {
    "collapsed": true
   },
   "outputs": [],
   "source": []
  }
 ],
 "metadata": {
  "kernelspec": {
   "display_name": "Python 3",
   "language": "python",
   "name": "python3"
  },
  "language_info": {
   "codemirror_mode": {
    "name": "ipython",
    "version": 3
   },
   "file_extension": ".py",
   "mimetype": "text/x-python",
   "name": "python",
   "nbconvert_exporter": "python",
   "pygments_lexer": "ipython3",
   "version": "3.6.3"
  }
 },
 "nbformat": 4,
 "nbformat_minor": 2
}
