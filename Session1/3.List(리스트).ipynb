{
 "cells": [
  {
   "cell_type": "markdown",
   "metadata": {},
   "source": [
    "# 1. List(리스트) "
   ]
  },
  {
   "cell_type": "code",
   "execution_count": 5,
   "metadata": {},
   "outputs": [
    {
     "name": "stdout",
     "output_type": "stream",
     "text": [
      "['SEC', 120, 130, [201712, 201713]]\n"
     ]
    }
   ],
   "source": [
    "#리스트 연산\n",
    "stockName = [\"SEC\"]\n",
    "priceList = [120,130]\n",
    "dateList = [201712,201713]\n",
    "\n",
    "secinfo = stockName+priceList+[dateList]\n",
    "print(secinfo)"
   ]
  },
  {
   "cell_type": "code",
   "execution_count": 3,
   "metadata": {},
   "outputs": [
    {
     "name": "stdout",
     "output_type": "stream",
     "text": [
      "120\n",
      "[201712, 201713]\n",
      "201712\n",
      "['SEC', 120, 130]\n"
     ]
    }
   ],
   "source": [
    "#리스트 인덱싱\n",
    "#secinfo=[\"SEC\",120,130,[201712,201713]]\n",
    "print(secinfo[1])\n",
    "print(secinfo[3])\n",
    "print(secinfo[3][0])\n",
    "print(secinfo[0:3])"
   ]
  },
  {
   "cell_type": "markdown",
   "metadata": {},
   "source": [
    "# 값업데이트 "
   ]
  },
  {
   "cell_type": "code",
   "execution_count": 15,
   "metadata": {},
   "outputs": [
    {
     "name": "stdout",
     "output_type": "stream",
     "text": [
      "[120, 130, 140, 150]\n",
      "[120, 130, 180, 150]\n",
      "[120, 130, 180]\n"
     ]
    }
   ],
   "source": [
    "#리스트 값 업데이트 하기\n",
    "updateList = [120,130,140,150]\n",
    "print(updateList)\n",
    "updateList[2] = 180\n",
    "print(updateList)\n",
    "\n",
    "#리스트 값 삭제하기\n",
    "\n",
    "del updateList[3]\n",
    "print(updateList)\n"
   ]
  },
  {
   "cell_type": "code",
   "execution_count": 38,
   "metadata": {},
   "outputs": [
    {
     "name": "stdout",
     "output_type": "stream",
     "text": [
      "[120, 130, 140, 150, 100, 11, 12]\n",
      "[150, 140, 130, 120, 100, 12, 11]\n",
      "0\n",
      "7\n",
      "11\n",
      "150\n",
      "663\n"
     ]
    }
   ],
   "source": [
    "functionList = [120,130,140,150]\n",
    "#리스트에 요소 추가하기\n",
    "functionList.append(100) # .append([100, 100]) --> 추가 되는 배열을 하나의 인덱스에 추가해줌\n",
    "# functionList.insert(3,100) 3번째 인덱스에 추가\n",
    "functionList.extend([11,12]) # .extend([11,12]) --> 추가 되는 배열의 인덱스를 하나하나 추가해줌\n",
    "print(functionList)\n",
    "#리스트 정렬하기\n",
    "functionList.sort(reverse=True) #sort(reverse=True) --> sort는 기본적으로 오름차순으로 정렬을 해주지만 예시처럼 쓸경우 \n",
    "             #         sort() == sort(reverse=False)     reverse->뒤집는걸 트루로해준다 해서 내림차순으로 정렬이 된다\n",
    "print(functionList)\n",
    "#값으로 인덱스 가져오기\n",
    "print(functionList.index(150))\n",
    "#리스트 자주사용하는 함수\n",
    "print(len(functionList))\n",
    "print(min(functionList))\n",
    "print(max(functionList))\n",
    "print(sum(functionList))"
   ]
  },
  {
   "cell_type": "code",
   "execution_count": 28,
   "metadata": {},
   "outputs": [
    {
     "name": "stdout",
     "output_type": "stream",
     "text": [
      "[120, 130, 140, 100, 150, [100, 100], 100, 11, 12]\n",
      "[120, 130, 140, 100, 150, [100, 100], 100, 11, 12]\n",
      "6\n"
     ]
    }
   ],
   "source": [
    "functionList1 = [120,130,140,150]\n",
    "functionList1.insert(3,100)\n",
    "functionList1.append([100, 100]) # .append([100, 100]) --> 추가 되는 배열을 하나의 인덱스에 추가해줌\n",
    "functionList1.append(100)\n",
    "functionList1.extend([11,12]) \n",
    "print(functionList1)\n",
    "#functionList1.sort(reverse = False)\n",
    "print(functionList1)\n",
    "a = functionList.index(150)\n",
    "print(a)"
   ]
  },
  {
   "cell_type": "markdown",
   "metadata": {},
   "source": [
    "# 예제"
   ]
  },
  {
   "cell_type": "code",
   "execution_count": 9,
   "metadata": {},
   "outputs": [
    {
     "name": "stdout",
     "output_type": "stream",
     "text": [
      "[12, 150, 300, 500, 1000, 100, 2000]\n"
     ]
    }
   ],
   "source": [
    "functionList =[12,150,300,500,1000,100,2000]\n",
    "print(functionList)"
   ]
  },
  {
   "cell_type": "code",
   "execution_count": 10,
   "metadata": {},
   "outputs": [
    {
     "name": "stdout",
     "output_type": "stream",
     "text": [
      "12\n",
      "0\n"
     ]
    }
   ],
   "source": [
    "minlist = min(functionList)\n",
    "a = functionList.index(minlist)\n",
    "print(minlist)\n",
    "print(a)"
   ]
  },
  {
   "cell_type": "code",
   "execution_count": 11,
   "metadata": {},
   "outputs": [
    {
     "name": "stdout",
     "output_type": "stream",
     "text": [
      "2000\n",
      "6\n"
     ]
    }
   ],
   "source": [
    "maxlist = max(functionList)\n",
    "b = functionList.index(maxlist)\n",
    "print(maxlist)\n",
    "print(b)"
   ]
  },
  {
   "cell_type": "code",
   "execution_count": 12,
   "metadata": {},
   "outputs": [
    {
     "name": "stdout",
     "output_type": "stream",
     "text": [
      "[150, 300, 500, 1000, 100, 2000]\n"
     ]
    }
   ],
   "source": [
    "functionList.pop(functionList.index(minlist))\n",
    "print(functionList)"
   ]
  },
  {
   "cell_type": "code",
   "execution_count": 13,
   "metadata": {},
   "outputs": [
    {
     "name": "stdout",
     "output_type": "stream",
     "text": [
      "[150, 300, 500, 1000, 100]\n"
     ]
    }
   ],
   "source": [
    "functionList.pop(functionList.index(maxlist))\n",
    "print(functionList)\n",
    "#functionList.pop(0)\n",
    "#functionList.pop(5)\n",
    "#print(functionList)"
   ]
  },
  {
   "cell_type": "code",
   "execution_count": 14,
   "metadata": {},
   "outputs": [
    {
     "name": "stdout",
     "output_type": "stream",
     "text": [
      "410.0\n"
     ]
    }
   ],
   "source": [
    "avergesum = sum(functionList)\n",
    "averageCount = len(functionList)\n",
    "\n",
    "average = avergesum/averageCount\n",
    "print(average)"
   ]
  },
  {
   "cell_type": "code",
   "execution_count": 34,
   "metadata": {},
   "outputs": [
    {
     "name": "stdout",
     "output_type": "stream",
     "text": [
      "['Life', 'is', 'too', 'short', 'you', 'need', 'python']\n"
     ]
    },
    {
     "ename": "TypeError",
     "evalue": "pop() takes at most 1 argument (5 given)",
     "output_type": "error",
     "traceback": [
      "\u001b[1;31m---------------------------------------------------------------------------\u001b[0m",
      "\u001b[1;31mTypeError\u001b[0m                                 Traceback (most recent call last)",
      "\u001b[1;32m<ipython-input-34-2e46f7a27f5d>\u001b[0m in \u001b[0;36m<module>\u001b[1;34m()\u001b[0m\n\u001b[0;32m      1\u001b[0m \u001b[0ma\u001b[0m \u001b[1;33m=\u001b[0m \u001b[1;33m[\u001b[0m\u001b[1;34m'Life'\u001b[0m\u001b[1;33m,\u001b[0m \u001b[1;34m'is'\u001b[0m\u001b[1;33m,\u001b[0m \u001b[1;34m'too'\u001b[0m\u001b[1;33m,\u001b[0m \u001b[1;34m'short'\u001b[0m\u001b[1;33m,\u001b[0m \u001b[1;34m'you'\u001b[0m\u001b[1;33m,\u001b[0m \u001b[1;34m'need'\u001b[0m\u001b[1;33m,\u001b[0m \u001b[1;34m'python'\u001b[0m\u001b[1;33m]\u001b[0m\u001b[1;33m\u001b[0m\u001b[0m\n\u001b[0;32m      2\u001b[0m \u001b[0mprint\u001b[0m\u001b[1;33m(\u001b[0m\u001b[0ma\u001b[0m\u001b[1;33m)\u001b[0m\u001b[1;33m\u001b[0m\u001b[0m\n\u001b[1;32m----> 3\u001b[1;33m \u001b[0ma\u001b[0m\u001b[1;33m.\u001b[0m\u001b[0mpop\u001b[0m\u001b[1;33m(\u001b[0m\u001b[1;36m0\u001b[0m\u001b[1;33m,\u001b[0m\u001b[1;36m1\u001b[0m\u001b[1;33m,\u001b[0m\u001b[1;36m3\u001b[0m\u001b[1;33m,\u001b[0m\u001b[1;36m4\u001b[0m\u001b[1;33m,\u001b[0m\u001b[1;36m6\u001b[0m\u001b[1;33m)\u001b[0m\u001b[1;33m\u001b[0m\u001b[0m\n\u001b[0m",
      "\u001b[1;31mTypeError\u001b[0m: pop() takes at most 1 argument (5 given)"
     ]
    }
   ],
   "source": [
    "a = ['Life', 'is', 'too', 'short', 'you', 'need', 'python']\n",
    "print(a)\n"
   ]
  },
  {
   "cell_type": "code",
   "execution_count": null,
   "metadata": {},
   "outputs": [],
   "source": []
  }
 ],
 "metadata": {
  "kernelspec": {
   "display_name": "Python 3",
   "language": "python",
   "name": "python3"
  },
  "language_info": {
   "codemirror_mode": {
    "name": "ipython",
    "version": 3
   },
   "file_extension": ".py",
   "mimetype": "text/x-python",
   "name": "python",
   "nbconvert_exporter": "python",
   "pygments_lexer": "ipython3",
   "version": "3.6.4"
  }
 },
 "nbformat": 4,
 "nbformat_minor": 2
}
